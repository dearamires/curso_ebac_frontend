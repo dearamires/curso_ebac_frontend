{
  "nbformat": 4,
  "nbformat_minor": 0,
  "metadata": {
    "colab": {
      "provenance": [],
      "include_colab_link": true
    },
    "kernelspec": {
      "name": "python3",
      "display_name": "Python 3"
    }
  },
  "cells": [
    {
      "cell_type": "markdown",
      "metadata": {
        "id": "view-in-github",
        "colab_type": "text"
      },
      "source": [
        "<a href=\"https://colab.research.google.com/github/dearamires/curso_ebac_frontend/blob/main/Python_M1_support_material01_exercise.ipynb\" target=\"_parent\"><img src=\"https://colab.research.google.com/assets/colab-badge.svg\" alt=\"Open In Colab\"/></a>"
      ]
    },
    {
      "cell_type": "markdown",
      "metadata": {
        "id": "KJqp9AANOCtf"
      },
      "source": [
        "<img src=\"https://raw.githubusercontent.com/andre-marcos-perez/ebac-course-utils/main/media/logo/newebac_logo_black_half.png\" alt=\"ebac-logo\">\n",
        "\n",
        "---\n",
        "\n",
        "# **Módulo** | Python: Variáveis & Tipos de Dados\n",
        "Caderno de **Exercícios**<br> \n",
        "Professor [André Perez](https://www.linkedin.com/in/andremarcosperez/)\n",
        "\n",
        "---"
      ]
    },
    {
      "cell_type": "markdown",
      "metadata": {
        "id": "d9jDtUbDOE1-"
      },
      "source": [
        "# **Tópicos**\n",
        "\n",
        "<ol type=\"1\">\n",
        "  <li>Introdução ao Google Colab;</li>\n",
        "  <li>Variáveis;</li>\n",
        "  <li>Números;</li>\n",
        "  <li><i>Strings;</i></li>\n",
        "  <li>Boleanos.</li>\n",
        "</ol>"
      ]
    },
    {
      "cell_type": "markdown",
      "metadata": {
        "id": "SmoHgt-lwkpD"
      },
      "source": [
        "---"
      ]
    },
    {
      "cell_type": "markdown",
      "metadata": {
        "id": "GABI6OW8OfQ2"
      },
      "source": [
        "# **Exercícios**"
      ]
    },
    {
      "cell_type": "markdown",
      "metadata": {
        "id": "muD1vxozykSC"
      },
      "source": [
        "## 1\\. Google Colab"
      ]
    },
    {
      "cell_type": "markdown",
      "metadata": {
        "id": "ahrFfCuBxJKs"
      },
      "source": [
        "Crie uma célula de código que escreva o texto \"Olá mundo!\", utilize o comando `print`."
      ]
    },
    {
      "cell_type": "code",
      "source": [
        "print(\"Olá, Mundo!\")"
      ],
      "metadata": {
        "colab": {
          "base_uri": "https://localhost:8080/"
        },
        "id": "H0uQXWK7p27-",
        "outputId": "0e6b50cb-173f-4e11-ed76-6fc9369013c6"
      },
      "execution_count": null,
      "outputs": [
        {
          "output_type": "stream",
          "name": "stdout",
          "text": [
            "Olá, Mundo!\n"
          ]
        }
      ]
    },
    {
      "cell_type": "markdown",
      "source": [
        "Olá, Mundo!!!\n"
      ],
      "metadata": {
        "id": "13Tp6Bn9p2vW"
      }
    },
    {
      "cell_type": "markdown",
      "metadata": {
        "id": "KI9zQRT2xa7m"
      },
      "source": [
        "Crie uma célua de texto e adicione uma imagem."
      ]
    },
    {
      "cell_type": "markdown",
      "source": [
        "Olá, Mundo!!!![download.jpeg](data:image/jpeg;base64,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)"
      ],
      "metadata": {
        "id": "SPtepRSuqF5u"
      }
    },
    {
      "cell_type": "markdown",
      "metadata": {
        "id": "zMN1Q3jdwoJm"
      },
      "source": [
        "---"
      ]
    },
    {
      "cell_type": "markdown",
      "metadata": {
        "id": "tFYOPLS3xiwe"
      },
      "source": [
        "## 2\\. Números"
      ]
    },
    {
      "cell_type": "markdown",
      "metadata": {
        "id": "O2G9gt7tx2c-"
      },
      "source": [
        "Preencha as células de código para preencher os valores de (A), (B) e (C) na tabela de ticket médio abaixo:\n",
        "\n",
        "<br>\n",
        "\n",
        "| Dia   | Valor Total Vendas | Qtd Total Vendas | Ticket Medio |\n",
        "|-------|--------------------|------------------|--------------|\n",
        "| 19/01 | (A)                | 3                | 320.52       |\n",
        "| 20/01 | 834.47             | (B)              | 119.21       |\n",
        "| 23/01 | 15378.12           | 5                | (C)          |"
      ]
    },
    {
      "cell_type": "code",
      "source": [
        "qtv_19=3\n",
        "tkt_19=320.52\n",
        "a_19=tkt_19*qtv_19\n",
        "print(a_19)"
      ],
      "metadata": {
        "colab": {
          "base_uri": "https://localhost:8080/"
        },
        "id": "NATSy_4au8uv",
        "outputId": "9cf7f818-7bf6-40db-97d2-ecee9bbb9078"
      },
      "execution_count": null,
      "outputs": [
        {
          "output_type": "stream",
          "name": "stdout",
          "text": [
            "961.56\n"
          ]
        }
      ]
    },
    {
      "cell_type": "code",
      "metadata": {
        "id": "QQ1GBGHJzMmi",
        "colab": {
          "base_uri": "https://localhost:8080/"
        },
        "outputId": "8d788e6e-7499-4666-a1b0-3804c4324793"
      },
      "source": [
        "vtv_20=834.47\n",
        "tkt_20=119.21\n",
        "b_20=vtv_20 /tkt_20\n",
        "print (b_20)"
      ],
      "execution_count": null,
      "outputs": [
        {
          "output_type": "stream",
          "name": "stdout",
          "text": [
            "7.000000000000001\n"
          ]
        }
      ]
    },
    {
      "cell_type": "code",
      "metadata": {
        "id": "W-li0nSMzKNa",
        "colab": {
          "base_uri": "https://localhost:8080/"
        },
        "outputId": "4d154c19-6e80-4e5a-b784-fbe7c4979d5e"
      },
      "source": [
        "vtv_23=15378.12\n",
        "qtv_23=5\n",
        "c_23= vtv_23/qtv_23\n",
        "print (c_23)"
      ],
      "execution_count": null,
      "outputs": [
        {
          "output_type": "stream",
          "name": "stdout",
          "text": [
            "3075.6240000000003\n"
          ]
        }
      ]
    },
    {
      "cell_type": "markdown",
      "metadata": {
        "id": "3eoP-Vj9yzh8"
      },
      "source": [
        "---"
      ]
    },
    {
      "cell_type": "markdown",
      "metadata": {
        "id": "yUJ6kdony6Pr"
      },
      "source": [
        "## 3\\. Strings"
      ]
    },
    {
      "cell_type": "markdown",
      "metadata": {
        "id": "KDuZpg-5zCvO"
      },
      "source": [
        "Aplique três métodos distintos na *string* abaixo, você pode conferir alguns métodos neste [link](https://www.w3schools.com/python/python_ref_string.asp):"
      ]
    },
    {
      "cell_type": "code",
      "metadata": {
        "id": "k9zbyf7BzjKj"
      },
      "source": [
        "cancao = 'Roda mundo, roda gigante, roda moinho, roda pião.'"
      ],
      "execution_count": null,
      "outputs": []
    },
    {
      "cell_type": "markdown",
      "source": [],
      "metadata": {
        "id": "EFyPhoibzJW4"
      }
    },
    {
      "cell_type": "code",
      "source": [
        "print(cancao.upper())"
      ],
      "metadata": {
        "colab": {
          "base_uri": "https://localhost:8080/"
        },
        "id": "bpuoi4s3y1T_",
        "outputId": "1bdfab26-3cc7-4c18-8505-d544bb85d041"
      },
      "execution_count": null,
      "outputs": [
        {
          "output_type": "stream",
          "name": "stdout",
          "text": [
            "RODA MUNDO, RODA GIGANTE, RODA MOINHO, RODA PIÃO.\n"
          ]
        }
      ]
    },
    {
      "cell_type": "code",
      "source": [
        "posicao=cancao.find(\"moinho\")\n",
        "print(posicao)"
      ],
      "metadata": {
        "colab": {
          "base_uri": "https://localhost:8080/"
        },
        "id": "a7R0HjQTzht_",
        "outputId": "6d0c51e4-1563-4cb4-949d-4990056b76fc"
      },
      "execution_count": null,
      "outputs": [
        {
          "output_type": "stream",
          "name": "stdout",
          "text": [
            "31\n"
          ]
        }
      ]
    },
    {
      "cell_type": "code",
      "source": [
        "print(cancao.replace(\"Roda\", \"Rodem\"))"
      ],
      "metadata": {
        "colab": {
          "base_uri": "https://localhost:8080/"
        },
        "id": "y9jph_a7zzko",
        "outputId": "166230b3-6115-48fb-d085-e17a3004728e"
      },
      "execution_count": null,
      "outputs": [
        {
          "output_type": "stream",
          "name": "stdout",
          "text": [
            "Rodem mundo, roda gigante, roda moinho, roda pião.\n"
          ]
        }
      ]
    },
    {
      "cell_type": "markdown",
      "metadata": {
        "id": "guZMHXVq0FnC"
      },
      "source": [
        "Extraia da string abaixo o valor da taxa **selic** na variável `selic` e o valor do **ano** na variavel `ano`. Imprima os valores na tela."
      ]
    },
    {
      "cell_type": "code",
      "metadata": {
        "id": "cbx_P4IQ0agK"
      },
      "source": [
        "noticia = 'Selic vai a 2,75% e supera expectativas; é a primeira alta em 6 anos.'"
      ],
      "execution_count": null,
      "outputs": []
    },
    {
      "cell_type": "code",
      "source": [
        "selic=2,75\n",
        "print(selic)"
      ],
      "metadata": {
        "colab": {
          "base_uri": "https://localhost:8080/"
        },
        "id": "_DB1bxlurCmA",
        "outputId": "9b58e533-65ed-4fe8-fddd-dd7ebe185bef"
      },
      "execution_count": null,
      "outputs": [
        {
          "output_type": "stream",
          "name": "stdout",
          "text": [
            "(2, 75)\n"
          ]
        }
      ]
    },
    {
      "cell_type": "markdown",
      "metadata": {
        "id": "no8w_Ati01xP"
      },
      "source": [
        "## 4\\. Booleanos"
      ]
    },
    {
      "cell_type": "markdown",
      "metadata": {
        "id": "D_0tC3SC099N"
      },
      "source": [
        "Utilize a tabela da verdade para responder: qual o valor da variável x?"
      ]
    },
    {
      "cell_type": "code",
      "metadata": {
        "id": "XwIEbxf91SpU"
      },
      "source": [
        "a = False\n",
        "b = True\n",
        "\n",
        "x = not a & b"
      ],
      "execution_count": null,
      "outputs": []
    }
  ]
}